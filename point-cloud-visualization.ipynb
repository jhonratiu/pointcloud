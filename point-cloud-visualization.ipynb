{
 "cells": [
  {
   "cell_type": "code",
   "execution_count": 1,
   "metadata": {},
   "outputs": [
    {
     "name": "stdout",
     "output_type": "stream",
     "text": [
      "Collecting git+https://github.com/daavoo/pyntcloud\n",
      "  Cloning https://github.com/daavoo/pyntcloud to /tmp/pip-req-build-vmllsgt3\n",
      "Requirement already satisfied: numpy in /usr/local/envs/py3env/lib/python3.5/site-packages (from pyntcloud==0.1.0) (1.14.0)\n",
      "Requirement already satisfied: scipy in /usr/local/envs/py3env/lib/python3.5/site-packages (from pyntcloud==0.1.0) (1.0.0)\n",
      "Requirement already satisfied: pandas in /usr/local/envs/py3env/lib/python3.5/site-packages (from pyntcloud==0.1.0) (0.22.0)\n",
      "Requirement already satisfied: python-dateutil>=2 in /usr/local/envs/py3env/lib/python3.5/site-packages (from pandas->pyntcloud==0.1.0) (2.5.0)\n",
      "Requirement already satisfied: pytz>=2011k in /usr/local/envs/py3env/lib/python3.5/site-packages (from pandas->pyntcloud==0.1.0) (2018.4)\n",
      "Requirement already satisfied: six>=1.5 in /usr/local/envs/py3env/lib/python3.5/site-packages (from python-dateutil>=2->pandas->pyntcloud==0.1.0) (1.10.0)\n",
      "Building wheels for collected packages: pyntcloud\n",
      "  Running setup.py bdist_wheel for pyntcloud ... \u001b[?25ldone\n",
      "\u001b[?25h  Stored in directory: /tmp/pip-ephem-wheel-cache-ulgil_67/wheels/be/37/76/afc097c015aa7cdb2ccfc317e1ea8684c387d6b48984dd1ded\n",
      "Successfully built pyntcloud\n",
      "Installing collected packages: pyntcloud\n",
      "Successfully installed pyntcloud-0.1.0\n",
      "Requirement already satisfied: ipywidgets in /usr/local/envs/py3env/lib/python3.5/site-packages (7.2.1)\n",
      "Requirement already satisfied: ipykernel>=4.5.1 in /usr/local/envs/py3env/lib/python3.5/site-packages (from ipywidgets) (4.8.2)\n",
      "Requirement already satisfied: traitlets>=4.3.1 in /usr/local/envs/py3env/lib/python3.5/site-packages (from ipywidgets) (4.3.2)\n",
      "Requirement already satisfied: nbformat>=4.2.0 in /usr/local/envs/py3env/lib/python3.5/site-packages (from ipywidgets) (4.4.0)\n",
      "Requirement already satisfied: widgetsnbextension~=3.2.0 in /usr/local/envs/py3env/lib/python3.5/site-packages (from ipywidgets) (3.2.1)\n",
      "Requirement already satisfied: ipython>=4.0.0 in /usr/local/envs/py3env/lib/python3.5/site-packages (from ipywidgets) (6.5.0)\n",
      "Requirement already satisfied: jupyter_client in /usr/local/envs/py3env/lib/python3.5/site-packages (from ipykernel>=4.5.1->ipywidgets) (5.2.3)\n",
      "Requirement already satisfied: tornado>=4.0 in /usr/local/envs/py3env/lib/python3.5/site-packages (from ipykernel>=4.5.1->ipywidgets) (4.5.1)\n",
      "Requirement already satisfied: ipython_genutils in /usr/local/envs/py3env/lib/python3.5/site-packages (from traitlets>=4.3.1->ipywidgets) (0.2.0)\n",
      "Requirement already satisfied: six in /usr/local/envs/py3env/lib/python3.5/site-packages (from traitlets>=4.3.1->ipywidgets) (1.10.0)\n",
      "Requirement already satisfied: decorator in /usr/local/envs/py3env/lib/python3.5/site-packages (from traitlets>=4.3.1->ipywidgets) (4.3.0)\n",
      "Requirement already satisfied: jsonschema!=2.5.0,>=2.4 in /usr/local/envs/py3env/lib/python3.5/site-packages (from nbformat>=4.2.0->ipywidgets) (2.6.0)\n",
      "Requirement already satisfied: jupyter_core in /usr/local/envs/py3env/lib/python3.5/site-packages (from nbformat>=4.2.0->ipywidgets) (4.4.0)\n",
      "Requirement already satisfied: notebook>=4.4.1 in /usr/local/envs/py3env/lib/python3.5/site-packages (from widgetsnbextension~=3.2.0->ipywidgets) (5.6.0)\n",
      "Requirement already satisfied: simplegeneric>0.8 in /usr/local/envs/py3env/lib/python3.5/site-packages (from ipython>=4.0.0->ipywidgets) (0.8.1)\n",
      "Requirement already satisfied: pexpect; sys_platform != \"win32\" in /usr/local/envs/py3env/lib/python3.5/site-packages (from ipython>=4.0.0->ipywidgets) (4.6.0)\n",
      "Requirement already satisfied: pygments in /usr/local/envs/py3env/lib/python3.5/site-packages (from ipython>=4.0.0->ipywidgets) (2.1.3)\n",
      "Requirement already satisfied: prompt-toolkit<2.0.0,>=1.0.15 in /usr/local/envs/py3env/lib/python3.5/site-packages (from ipython>=4.0.0->ipywidgets) (1.0.15)\n",
      "Requirement already satisfied: pickleshare in /usr/local/envs/py3env/lib/python3.5/site-packages (from ipython>=4.0.0->ipywidgets) (0.7.4)\n",
      "Requirement already satisfied: jedi>=0.10 in /usr/local/envs/py3env/lib/python3.5/site-packages (from ipython>=4.0.0->ipywidgets) (0.12.1)\n",
      "Requirement already satisfied: backcall in /usr/local/envs/py3env/lib/python3.5/site-packages (from ipython>=4.0.0->ipywidgets) (0.1.0)\n",
      "Requirement already satisfied: setuptools>=18.5 in /usr/local/envs/py3env/lib/python3.5/site-packages (from ipython>=4.0.0->ipywidgets) (40.2.0)\n",
      "Requirement already satisfied: pyzmq>=13 in /usr/local/envs/py3env/lib/python3.5/site-packages (from jupyter_client->ipykernel>=4.5.1->ipywidgets) (17.1.0)\n",
      "Requirement already satisfied: python-dateutil>=2.1 in /usr/local/envs/py3env/lib/python3.5/site-packages (from jupyter_client->ipykernel>=4.5.1->ipywidgets) (2.5.0)\n",
      "Requirement already satisfied: Send2Trash in /usr/local/envs/py3env/lib/python3.5/site-packages (from notebook>=4.4.1->widgetsnbextension~=3.2.0->ipywidgets) (1.5.0)\n",
      "Requirement already satisfied: terminado>=0.8.1 in /usr/local/envs/py3env/lib/python3.5/site-packages (from notebook>=4.4.1->widgetsnbextension~=3.2.0->ipywidgets) (0.8.1)\n",
      "Requirement already satisfied: jinja2 in /usr/local/envs/py3env/lib/python3.5/site-packages (from notebook>=4.4.1->widgetsnbextension~=3.2.0->ipywidgets) (2.8)\n",
      "Requirement already satisfied: prometheus-client in /usr/local/envs/py3env/lib/python3.5/site-packages (from notebook>=4.4.1->widgetsnbextension~=3.2.0->ipywidgets) (0.3.1)\n",
      "Requirement already satisfied: nbconvert in /usr/local/envs/py3env/lib/python3.5/site-packages (from notebook>=4.4.1->widgetsnbextension~=3.2.0->ipywidgets) (5.3.1)\n",
      "Requirement already satisfied: ptyprocess>=0.5 in /usr/local/envs/py3env/lib/python3.5/site-packages (from pexpect; sys_platform != \"win32\"->ipython>=4.0.0->ipywidgets) (0.6.0)\n",
      "Requirement already satisfied: wcwidth in /usr/local/envs/py3env/lib/python3.5/site-packages (from prompt-toolkit<2.0.0,>=1.0.15->ipython>=4.0.0->ipywidgets) (0.1.7)\n",
      "Requirement already satisfied: parso>=0.3.0 in /usr/local/envs/py3env/lib/python3.5/site-packages (from jedi>=0.10->ipython>=4.0.0->ipywidgets) (0.3.1)\n",
      "Requirement already satisfied: MarkupSafe in /usr/local/envs/py3env/lib/python3.5/site-packages (from jinja2->notebook>=4.4.1->widgetsnbextension~=3.2.0->ipywidgets) (1.0)\n",
      "Requirement already satisfied: mistune>=0.7.4 in /usr/local/envs/py3env/lib/python3.5/site-packages (from nbconvert->notebook>=4.4.1->widgetsnbextension~=3.2.0->ipywidgets) (0.8.3)\n",
      "Requirement already satisfied: entrypoints>=0.2.2 in /usr/local/envs/py3env/lib/python3.5/site-packages (from nbconvert->notebook>=4.4.1->widgetsnbextension~=3.2.0->ipywidgets) (0.2.3)\n",
      "Requirement already satisfied: testpath in /usr/local/envs/py3env/lib/python3.5/site-packages (from nbconvert->notebook>=4.4.1->widgetsnbextension~=3.2.0->ipywidgets) (0.3.1)\n",
      "Requirement already satisfied: bleach in /usr/local/envs/py3env/lib/python3.5/site-packages (from nbconvert->notebook>=4.4.1->widgetsnbextension~=3.2.0->ipywidgets) (2.1.2)\n",
      "Requirement already satisfied: pandocfilters>=1.4.1 in /usr/local/envs/py3env/lib/python3.5/site-packages (from nbconvert->notebook>=4.4.1->widgetsnbextension~=3.2.0->ipywidgets) (1.4.2)\n",
      "Requirement already satisfied: html5lib!=1.0b1,!=1.0b2,!=1.0b3,!=1.0b4,!=1.0b5,!=1.0b6,!=1.0b7,!=1.0b8,>=0.99999999pre in /usr/local/envs/py3env/lib/python3.5/site-packages (from bleach->nbconvert->notebook>=4.4.1->widgetsnbextension~=3.2.0->ipywidgets) (1.0.1)\n",
      "Requirement already satisfied: webencodings in /usr/local/envs/py3env/lib/python3.5/site-packages (from html5lib!=1.0b1,!=1.0b2,!=1.0b3,!=1.0b4,!=1.0b5,!=1.0b6,!=1.0b7,!=1.0b8,>=0.99999999pre->bleach->nbconvert->notebook>=4.4.1->widgetsnbextension~=3.2.0->ipywidgets) (0.5.1)\n",
      "Enabling notebook extension jupyter-js-widgets/extension...\n",
      "      - Validating: \u001b[32mOK\u001b[0m\n",
      "Collecting pythreejs\n",
      "  Using cached https://files.pythonhosted.org/packages/b6/0e/f6dbe6e1a9a489cca1bcada3ee0ae5fd49cfb123c6829cc9c1c6583a3fa8/pythreejs-2.0.2-py2.py3-none-any.whl\n",
      "Requirement already satisfied: numpy in /usr/local/envs/py3env/lib/python3.5/site-packages (from pythreejs) (1.14.0)\n",
      "Collecting ipydatawidgets>=1.1.1 (from pythreejs)\n",
      "  Using cached https://files.pythonhosted.org/packages/2c/9e/16c3cbc63862b36c0b18aa0e1d1dd6a65496d4f8a91a57a728d19bdb74b1/ipydatawidgets-4.0.0-py2.py3-none-any.whl\n"
     ]
    },
    {
     "name": "stdout",
     "output_type": "stream",
     "text": [
      "Requirement already satisfied: ipywidgets>=7.2.1 in /usr/local/envs/py3env/lib/python3.5/site-packages (from pythreejs) (7.2.1)\n",
      "Requirement already satisfied: six in /usr/local/envs/py3env/lib/python3.5/site-packages (from ipydatawidgets>=1.1.1->pythreejs) (1.10.0)\n",
      "Collecting traittypes>=0.2.0 (from ipydatawidgets>=1.1.1->pythreejs)\n",
      "  Using cached https://files.pythonhosted.org/packages/9c/d1/8d5bd662703cc1764d986f6908a608777305946fa634d34c470cd4a1e729/traittypes-0.2.1-py2.py3-none-any.whl\n",
      "Requirement already satisfied: ipykernel>=4.5.1 in /usr/local/envs/py3env/lib/python3.5/site-packages (from ipywidgets>=7.2.1->pythreejs) (4.8.2)\n",
      "Requirement already satisfied: traitlets>=4.3.1 in /usr/local/envs/py3env/lib/python3.5/site-packages (from ipywidgets>=7.2.1->pythreejs) (4.3.2)\n",
      "Requirement already satisfied: nbformat>=4.2.0 in /usr/local/envs/py3env/lib/python3.5/site-packages (from ipywidgets>=7.2.1->pythreejs) (4.4.0)\n",
      "Requirement already satisfied: widgetsnbextension~=3.2.0 in /usr/local/envs/py3env/lib/python3.5/site-packages (from ipywidgets>=7.2.1->pythreejs) (3.2.1)\n",
      "Requirement already satisfied: ipython>=4.0.0 in /usr/local/envs/py3env/lib/python3.5/site-packages (from ipywidgets>=7.2.1->pythreejs) (6.5.0)\n",
      "Requirement already satisfied: jupyter_client in /usr/local/envs/py3env/lib/python3.5/site-packages (from ipykernel>=4.5.1->ipywidgets>=7.2.1->pythreejs) (5.2.3)\n",
      "Requirement already satisfied: tornado>=4.0 in /usr/local/envs/py3env/lib/python3.5/site-packages (from ipykernel>=4.5.1->ipywidgets>=7.2.1->pythreejs) (4.5.1)\n",
      "Requirement already satisfied: ipython_genutils in /usr/local/envs/py3env/lib/python3.5/site-packages (from traitlets>=4.3.1->ipywidgets>=7.2.1->pythreejs) (0.2.0)\n",
      "Requirement already satisfied: decorator in /usr/local/envs/py3env/lib/python3.5/site-packages (from traitlets>=4.3.1->ipywidgets>=7.2.1->pythreejs) (4.3.0)\n",
      "Requirement already satisfied: jsonschema!=2.5.0,>=2.4 in /usr/local/envs/py3env/lib/python3.5/site-packages (from nbformat>=4.2.0->ipywidgets>=7.2.1->pythreejs) (2.6.0)\n",
      "Requirement already satisfied: jupyter_core in /usr/local/envs/py3env/lib/python3.5/site-packages (from nbformat>=4.2.0->ipywidgets>=7.2.1->pythreejs) (4.4.0)\n",
      "Requirement already satisfied: notebook>=4.4.1 in /usr/local/envs/py3env/lib/python3.5/site-packages (from widgetsnbextension~=3.2.0->ipywidgets>=7.2.1->pythreejs) (5.6.0)\n",
      "Requirement already satisfied: pickleshare in /usr/local/envs/py3env/lib/python3.5/site-packages (from ipython>=4.0.0->ipywidgets>=7.2.1->pythreejs) (0.7.4)\n",
      "Requirement already satisfied: setuptools>=18.5 in /usr/local/envs/py3env/lib/python3.5/site-packages (from ipython>=4.0.0->ipywidgets>=7.2.1->pythreejs) (40.2.0)\n",
      "Requirement already satisfied: pexpect; sys_platform != \"win32\" in /usr/local/envs/py3env/lib/python3.5/site-packages (from ipython>=4.0.0->ipywidgets>=7.2.1->pythreejs) (4.6.0)\n",
      "Requirement already satisfied: simplegeneric>0.8 in /usr/local/envs/py3env/lib/python3.5/site-packages (from ipython>=4.0.0->ipywidgets>=7.2.1->pythreejs) (0.8.1)\n",
      "Requirement already satisfied: prompt-toolkit<2.0.0,>=1.0.15 in /usr/local/envs/py3env/lib/python3.5/site-packages (from ipython>=4.0.0->ipywidgets>=7.2.1->pythreejs) (1.0.15)\n",
      "Requirement already satisfied: backcall in /usr/local/envs/py3env/lib/python3.5/site-packages (from ipython>=4.0.0->ipywidgets>=7.2.1->pythreejs) (0.1.0)\n",
      "Requirement already satisfied: jedi>=0.10 in /usr/local/envs/py3env/lib/python3.5/site-packages (from ipython>=4.0.0->ipywidgets>=7.2.1->pythreejs) (0.12.1)\n",
      "Requirement already satisfied: pygments in /usr/local/envs/py3env/lib/python3.5/site-packages (from ipython>=4.0.0->ipywidgets>=7.2.1->pythreejs) (2.1.3)\n",
      "Requirement already satisfied: pyzmq>=13 in /usr/local/envs/py3env/lib/python3.5/site-packages (from jupyter_client->ipykernel>=4.5.1->ipywidgets>=7.2.1->pythreejs) (17.1.0)\n",
      "Requirement already satisfied: python-dateutil>=2.1 in /usr/local/envs/py3env/lib/python3.5/site-packages (from jupyter_client->ipykernel>=4.5.1->ipywidgets>=7.2.1->pythreejs) (2.5.0)\n",
      "Requirement already satisfied: jinja2 in /usr/local/envs/py3env/lib/python3.5/site-packages (from notebook>=4.4.1->widgetsnbextension~=3.2.0->ipywidgets>=7.2.1->pythreejs) (2.8)\n",
      "Requirement already satisfied: prometheus-client in /usr/local/envs/py3env/lib/python3.5/site-packages (from notebook>=4.4.1->widgetsnbextension~=3.2.0->ipywidgets>=7.2.1->pythreejs) (0.3.1)\n",
      "Requirement already satisfied: nbconvert in /usr/local/envs/py3env/lib/python3.5/site-packages (from notebook>=4.4.1->widgetsnbextension~=3.2.0->ipywidgets>=7.2.1->pythreejs) (5.3.1)\n",
      "Requirement already satisfied: Send2Trash in /usr/local/envs/py3env/lib/python3.5/site-packages (from notebook>=4.4.1->widgetsnbextension~=3.2.0->ipywidgets>=7.2.1->pythreejs) (1.5.0)\n",
      "Requirement already satisfied: terminado>=0.8.1 in /usr/local/envs/py3env/lib/python3.5/site-packages (from notebook>=4.4.1->widgetsnbextension~=3.2.0->ipywidgets>=7.2.1->pythreejs) (0.8.1)\n",
      "Requirement already satisfied: ptyprocess>=0.5 in /usr/local/envs/py3env/lib/python3.5/site-packages (from pexpect; sys_platform != \"win32\"->ipython>=4.0.0->ipywidgets>=7.2.1->pythreejs) (0.6.0)\n",
      "Requirement already satisfied: wcwidth in /usr/local/envs/py3env/lib/python3.5/site-packages (from prompt-toolkit<2.0.0,>=1.0.15->ipython>=4.0.0->ipywidgets>=7.2.1->pythreejs) (0.1.7)\n",
      "Requirement already satisfied: parso>=0.3.0 in /usr/local/envs/py3env/lib/python3.5/site-packages (from jedi>=0.10->ipython>=4.0.0->ipywidgets>=7.2.1->pythreejs) (0.3.1)\n",
      "Requirement already satisfied: MarkupSafe in /usr/local/envs/py3env/lib/python3.5/site-packages (from jinja2->notebook>=4.4.1->widgetsnbextension~=3.2.0->ipywidgets>=7.2.1->pythreejs) (1.0)\n",
      "Requirement already satisfied: pandocfilters>=1.4.1 in /usr/local/envs/py3env/lib/python3.5/site-packages (from nbconvert->notebook>=4.4.1->widgetsnbextension~=3.2.0->ipywidgets>=7.2.1->pythreejs) (1.4.2)\n",
      "Requirement already satisfied: testpath in /usr/local/envs/py3env/lib/python3.5/site-packages (from nbconvert->notebook>=4.4.1->widgetsnbextension~=3.2.0->ipywidgets>=7.2.1->pythreejs) (0.3.1)\n",
      "Requirement already satisfied: bleach in /usr/local/envs/py3env/lib/python3.5/site-packages (from nbconvert->notebook>=4.4.1->widgetsnbextension~=3.2.0->ipywidgets>=7.2.1->pythreejs) (2.1.2)\n",
      "Requirement already satisfied: entrypoints>=0.2.2 in /usr/local/envs/py3env/lib/python3.5/site-packages (from nbconvert->notebook>=4.4.1->widgetsnbextension~=3.2.0->ipywidgets>=7.2.1->pythreejs) (0.2.3)\n",
      "Requirement already satisfied: mistune>=0.7.4 in /usr/local/envs/py3env/lib/python3.5/site-packages (from nbconvert->notebook>=4.4.1->widgetsnbextension~=3.2.0->ipywidgets>=7.2.1->pythreejs) (0.8.3)\n",
      "Requirement already satisfied: html5lib!=1.0b1,!=1.0b2,!=1.0b3,!=1.0b4,!=1.0b5,!=1.0b6,!=1.0b7,!=1.0b8,>=0.99999999pre in /usr/local/envs/py3env/lib/python3.5/site-packages (from bleach->nbconvert->notebook>=4.4.1->widgetsnbextension~=3.2.0->ipywidgets>=7.2.1->pythreejs) (1.0.1)\n",
      "Requirement already satisfied: webencodings in /usr/local/envs/py3env/lib/python3.5/site-packages (from html5lib!=1.0b1,!=1.0b2,!=1.0b3,!=1.0b4,!=1.0b5,!=1.0b6,!=1.0b7,!=1.0b8,>=0.99999999pre->bleach->nbconvert->notebook>=4.4.1->widgetsnbextension~=3.2.0->ipywidgets>=7.2.1->pythreejs) (0.5.1)\n",
      "Installing collected packages: traittypes, ipydatawidgets, pythreejs\n",
      "Successfully installed ipydatawidgets-4.0.0 pythreejs-2.0.2 traittypes-0.2.1\n",
      "Installing /usr/local/envs/py3env/lib/python3.5/site-packages/pythreejs/static -> jupyter-threejs\n",
      "- Validating: \u001b[32mOK\u001b[0m\n",
      "\n",
      "    To initialize this nbextension in the browser every time the notebook (or other app) loads:\n",
      "    \n",
      "          jupyter nbextension enable pythreejs --py --sys-prefix\n",
      "    \n",
      "Enabling notebook extension jupyter-threejs/extension...\n",
      "      - Validating: \u001b[32mOK\u001b[0m\n"
     ]
    }
   ],
   "source": [
    "!pip install git+https://github.com/daavoo/pyntcloud\n",
    "!pip install ipywidgets\n",
    "!jupyter nbextension enable --py --sys-prefix widgetsnbextension\n",
    "!pip install pythreejs\n",
    "!jupyter nbextension install --py --symlink --sys-prefix pythreejs\n",
    "!jupyter nbextension enable --py --sys-prefix pythreejs"
   ]
  },
  {
   "cell_type": "code",
   "execution_count": 2,
   "metadata": {},
   "outputs": [],
   "source": [
    "import os\n",
    "import glob\n",
    "import numpy as np\n",
    "import pandas as pd\n",
    "from pyntcloud import PyntCloud"
   ]
  },
  {
   "cell_type": "code",
   "execution_count": 5,
   "metadata": {},
   "outputs": [],
   "source": [
    "dir_path = \"S3DIS/Stanford3dDataset_v1.2/Area_1/conferenceRoom_1\"\n",
    "anno_path = \"Annotations/\"\n",
    "file_name = os.path.basename(dir_path) + \".txt\"\n",
    "anno_object_paths = glob.glob(os.path.join(dir_path, anno_path, \"*.txt\"))"
   ]
  },
  {
   "cell_type": "code",
   "execution_count": 4,
   "metadata": {},
   "outputs": [],
   "source": [
    "def subsample(points, size=0.05):\n",
    "  cloud = PyntCloud(points)\n",
    "  voxelgrid_id = cloud.add_structure(\"voxelgrid\", size_x=size, size_y=size, size_z=size)\n",
    "  voxelgrid = cloud.structures[voxelgrid_id]\n",
    "  voxel_centers = pd.DataFrame(data=voxelgrid.voxel_centers)\n",
    "  voxel_binary = voxelgrid.get_feature_vector(mode=\"binary\").flatten()\n",
    "  subsampled_points = voxel_centers.assign(binary = pd.DataFrame(voxel_binary))\n",
    "  subsampled_points = subsampled_points[subsampled_points.binary == 1.0].drop('binary', axis='columns')\n",
    "  subsampled_points = subsampled_points.reset_index(drop=True)\n",
    "  subsampled_points = subsampled_points.rename({0:'x', 1:'y', 2:'z'}, axis='columns')\n",
    "  \n",
    "  print(\"{:,} points subsampled to {:,} points for voxel size {}\".format(len(cloud.points.index),\n",
    "                                                                         len(subsampled_points.index),\n",
    "                                                                         size))\n",
    "  return subsampled_points"
   ]
  },
  {
   "cell_type": "code",
   "execution_count": 5,
   "metadata": {},
   "outputs": [],
   "source": [
    "point_cloud = PyntCloud.from_file(os.path.join(dir_path, file_name),\n",
    "                                 sep=\" \",\n",
    "                                 header=0,\n",
    "                                 names=[\"x\",\"y\",\"z\",\"red\",\"green\",\"blue\"])"
   ]
  },
  {
   "cell_type": "code",
   "execution_count": 15,
   "metadata": {},
   "outputs": [
    {
     "name": "stdout",
     "output_type": "stream",
     "text": [
      "4,973 points subsampled to 1,400 points for voxel size 0.02\n",
      "8,781 points subsampled to 2,445 points for voxel size 0.02\n",
      "4,662 points subsampled to 1,266 points for voxel size 0.02\n",
      "6,325 points subsampled to 1,694 points for voxel size 0.02\n",
      "3,970 points subsampled to 1,060 points for voxel size 0.02\n",
      "9,873 points subsampled to 2,758 points for voxel size 0.02\n",
      "4,688 points subsampled to 1,309 points for voxel size 0.02\n",
      "82,922 points subsampled to 20,877 points for voxel size 0.02\n",
      "15,239 points subsampled to 4,191 points for voxel size 0.02\n",
      "5,148 points subsampled to 1,406 points for voxel size 0.02\n",
      "5,307 points subsampled to 1,470 points for voxel size 0.02\n",
      "41,344 points subsampled to 11,180 points for voxel size 0.02\n",
      "19,726 points subsampled to 4,951 points for voxel size 0.02\n",
      "12,855 points subsampled to 3,566 points for voxel size 0.02\n",
      "107,351 points subsampled to 26,958 points for voxel size 0.02\n",
      "190,383 points subsampled to 48,082 points for voxel size 0.02\n",
      "33,358 points subsampled to 8,603 points for voxel size 0.02\n",
      "58,138 points subsampled to 14,682 points for voxel size 0.02\n",
      "7,826 points subsampled to 2,150 points for voxel size 0.02\n",
      "9,359 points subsampled to 2,663 points for voxel size 0.02\n",
      "31,048 points subsampled to 7,735 points for voxel size 0.02\n",
      "9,698 points subsampled to 2,653 points for voxel size 0.02\n",
      "9,166 points subsampled to 2,510 points for voxel size 0.02\n",
      "213,073 points subsampled to 53,257 points for voxel size 0.02\n",
      "61,527 points subsampled to 15,552 points for voxel size 0.02\n",
      "2,947 points subsampled to 860 points for voxel size 0.02\n",
      "33,746 points subsampled to 8,515 points for voxel size 0.02\n",
      "4,330 points subsampled to 1,160 points for voxel size 0.02\n",
      "6,728 points subsampled to 1,929 points for voxel size 0.02\n",
      "20,436 points subsampled to 5,235 points for voxel size 0.02\n",
      "106,007 points subsampled to 26,762 points for voxel size 0.02\n",
      "5,651 points subsampled to 1,526 points for voxel size 0.02\n"
     ]
    }
   ],
   "source": [
    "anno_list = []\n",
    "for file in anno_object_paths:\n",
    "  df = pd.read_csv(file,\n",
    "                   sep=\" \",\n",
    "                   header=0,\n",
    "                   names=[\"x\",\"y\",\"z\",\"red\",\"green\",\"blue\"])\n",
    "  df = subsample(df, size=0.02)\n",
    "  if \"chair\" in os.path.basename(file): #make chairs red  \n",
    "    df[\"red\"],df[\"green\"],df[\"blue\"] = 200,0,0\n",
    "  else:\n",
    "    df[\"red\"],df[\"green\"],df[\"blue\"] = 255,165,0\n",
    "    \n",
    "\n",
    "  anno_list.append(df)\n",
    "\n",
    "anno_list_concat = pd.concat(anno_list, ignore_index=True)\n",
    "anno_cloud = PyntCloud(anno_list_concat)"
   ]
  },
  {
   "cell_type": "code",
   "execution_count": 10,
   "metadata": {},
   "outputs": [],
   "source": [
    "k_neighbors = anno_cloud.get_neighbors(k=10)\n",
    "anno_cloud.add_scalar_field(\"normals\", k_neighbors=k_neighbors)\n",
    "anno_cloud.points.columns = [\"x\",\"y\",\"z\",\"red\",\"green\",\"blue\",\"nx\",\"ny\",\"nz\"]\n",
    "#orientation_degrees = anno_cloud.add_scalar_field(\"orientation_degrees\")"
   ]
  },
  {
   "cell_type": "code",
   "execution_count": 28,
   "metadata": {},
   "outputs": [
    {
     "name": "stdout",
     "output_type": "stream",
     "text": [
      "1,136,585 points subsampled to 49,258 points for voxel size 0.05\n"
     ]
    }
   ],
   "source": [
    "subsampled_anno_cloud = PyntCloud(subsample(anno_cloud.points, size=0.05))"
   ]
  },
  {
   "cell_type": "code",
   "execution_count": 16,
   "metadata": {},
   "outputs": [
    {
     "data": {
      "application/vnd.jupyter.widget-view+json": {
       "model_id": "ce8cec7a35024d99ad8df1f7beb419b2",
       "version_major": 2,
       "version_minor": 0
      },
      "text/plain": [
       "Renderer(camera=PerspectiveCamera(aspect=1.8333333333333333, fov=90.0, position=(-17.861522674560547, 80.32363…"
      ]
     },
     "metadata": {},
     "output_type": "display_data"
    },
    {
     "data": {
      "application/vnd.jupyter.widget-view+json": {
       "model_id": "1a2bf0ba108e474189acb075b4920edd",
       "version_major": 2,
       "version_minor": 0
      },
      "text/plain": [
       "HBox(children=(Label(value='Point size:'), FloatSlider(value=0.005, max=0.05, step=5e-05), Label(value='Backgr…"
      ]
     },
     "metadata": {},
     "output_type": "display_data"
    }
   ],
   "source": [
    "#point_cloud.plot(width=1100, height=600, initial_point_size=0.02)\n",
    "anno_cloud.plot(width=1100, height=600, initial_point_size=0.005)\n",
    "#anno_cloud.plot(width=1100, height=600, initial_point_size=0.02, use_as_color=orientation_degrees, cmap=\"jet\")\n",
    "#voxelgrid.plot(d=3, mode=\"density\", cmap=\"hsv\")"
   ]
  },
  {
   "cell_type": "code",
   "execution_count": null,
   "metadata": {},
   "outputs": [],
   "source": []
  }
 ],
 "metadata": {
  "kernelspec": {
   "display_name": "Python 3",
   "language": "python",
   "name": "python3"
  },
  "language_info": {
   "codemirror_mode": {
    "name": "ipython",
    "version": 3
   },
   "file_extension": ".py",
   "mimetype": "text/x-python",
   "name": "python",
   "nbconvert_exporter": "python",
   "pygments_lexer": "ipython3",
   "version": "3.5.6"
  }
 },
 "nbformat": 4,
 "nbformat_minor": 2
}
